{
  "nbformat": 4,
  "nbformat_minor": 0,
  "metadata": {
    "colab": {
      "provenance": []
    },
    "kernelspec": {
      "name": "python3",
      "display_name": "Python 3"
    },
    "language_info": {
      "name": "python"
    }
  },
  "cells": [
    {
      "cell_type": "code",
      "execution_count": 3,
      "metadata": {
        "id": "tJF--uu4wTnu"
      },
      "outputs": [],
      "source": [
        "import pandas as pd\n",
        "from sklearn.model_selection import train_test_split\n",
        "from sklearn.preprocessing import LabelEncoder\n",
        "from sklearn.ensemble import RandomForestClassifier\n",
        "from sklearn.metrics import accuracy_score, classification_report, confusion_matrix\n",
        "import joblib"
      ]
    },
    {
      "cell_type": "code",
      "source": [
        "# Load the dataset\n",
        "data = pd.read_csv('crop_recommendation_dataset_100000.csv')\n",
        "\n",
        "# Display the first few rows of the dataset\n",
        "print(data.head())"
      ],
      "metadata": {
        "colab": {
          "base_uri": "https://localhost:8080/"
        },
        "id": "ctMBiVv7Ipl4",
        "outputId": "3b7aabf8-baf1-414e-c284-e83652654eaa"
      },
      "execution_count": 4,
      "outputs": [
        {
          "output_type": "stream",
          "name": "stdout",
          "text": [
            "  Previous Crop Soil Type  Moisture Level  Nitrogen (N)  Phosphorus (P)  \\\n",
            "0       Tobacco    Clayey              28           310             101   \n",
            "1          Rice    Saline              35           221              63   \n",
            "2        Barley     Sandy              26           259              60   \n",
            "3     Groundnut    Clayey              28           140              34   \n",
            "4       Millets     Sandy              24           379             108   \n",
            "\n",
            "   Potassium (K) Recommended Crop  \n",
            "0            354          Millets  \n",
            "1            680          Sorghum  \n",
            "2            710          Millets  \n",
            "3            414          Millets  \n",
            "4            382          Millets  \n"
          ]
        }
      ]
    },
    {
      "cell_type": "code",
      "source": [
        "# Create a consistent mapping for crops\n",
        "crop_mapping = {\n",
        "    'Wheat': 1,\n",
        "    'Rice': 2,\n",
        "    'Millets': 3,\n",
        "    'Cotton': 4,\n",
        "    'Groundnut': 5,\n",
        "    'Maize': 6,\n",
        "    'Sorghum': 7,\n",
        "    'Barley': 8\n",
        "}\n",
        "\n",
        "# Check for unmapped crops\n",
        "unmapped_crops = set(data['Recommended Crop']) - set(crop_mapping.keys())\n",
        "if unmapped_crops:\n",
        "    print(\"Unmapped crops found:\", unmapped_crops)\n",
        "\n",
        "# Map the recommended crops to integers\n",
        "data['Recommended Crop'] = data['Recommended Crop'].map(crop_mapping)\n",
        "\n",
        "# Drop rows with NaN values in 'Recommended Crop'\n",
        "data = data.dropna(subset=['Recommended Crop'])\n",
        "\n",
        "# Encoding categorical variables manually\n",
        "previous_crop_mapping = {\n",
        "    'Groundnut': 1,\n",
        "    'Millets': 2,\n",
        "    'Wheat': 3,\n",
        "    'Maize': 4,\n",
        "    'Cotton': 5,\n",
        "    'Sorghum': 6,\n",
        "    'Barley': 7,\n",
        "    'Rice': 8\n",
        "}\n",
        "\n",
        "soil_type_mapping = {\n",
        "    'Loamy': 1,\n",
        "    'Clayey': 2,\n",
        "    'Sandy': 3,\n",
        "    'Saline': 4\n",
        "}"
      ],
      "metadata": {
        "colab": {
          "base_uri": "https://localhost:8080/"
        },
        "id": "4xB_HUdTIs3a",
        "outputId": "f0bde52a-f093-4d06-8610-c42464f876bc"
      },
      "execution_count": 5,
      "outputs": [
        {
          "output_type": "stream",
          "name": "stdout",
          "text": [
            "Unmapped crops found: {'Soybean'}\n"
          ]
        }
      ]
    },
    {
      "cell_type": "code",
      "source": [
        "data['Previous Crop'] = data['Previous Crop'].map(previous_crop_mapping)\n",
        "data['Soil Type'] = data['Soil Type'].map(soil_type_mapping)\n",
        "\n",
        "# Drop rows with NaN values after mapping\n",
        "data = data.dropna()"
      ],
      "metadata": {
        "id": "k-GFP7kG67Vw"
      },
      "execution_count": 6,
      "outputs": []
    },
    {
      "cell_type": "code",
      "source": [
        "# Define features and target variable\n",
        "X = data.drop('Recommended Crop', axis=1)\n",
        "y = data['Recommended Crop']\n",
        "\n",
        "# Split the dataset into training and testing sets\n",
        "X_train, X_test, y_train, y_test = train_test_split(X, y, test_size=0.2, random_state=42)\n",
        "\n",
        "# Initialize and train the model\n",
        "model = RandomForestClassifier(n_estimators=100, random_state=42)\n",
        "model.fit(X_train, y_train)\n",
        "\n",
        "# Make predictions\n",
        "y_pred = model.predict(X_test)"
      ],
      "metadata": {
        "id": "M0VKcVof9zGY"
      },
      "execution_count": 7,
      "outputs": []
    },
    {
      "cell_type": "code",
      "source": [
        "def model_details():\n",
        "  accuracy = accuracy_score(y_test, y_pred)\n",
        "  confusion = confusion_matrix(y_test, y_pred)\n",
        "  report = classification_report(y_test, y_pred)\n",
        "\n",
        "  print(f\"Accuracy: {accuracy * 100:.2f}%\")\n",
        "  print(\"Confusion Matrix:\")\n",
        "  print(confusion)\n",
        "  print(\"Classification Report:\")\n",
        "  print(report)"
      ],
      "metadata": {
        "id": "pKRcN7GRrFJR"
      },
      "execution_count": 14,
      "outputs": []
    },
    {
      "cell_type": "code",
      "source": [
        "# Evaluate the model\n",
        "model_details()\n",
        "\n",
        "# Save the model and mappings for future use\n",
        "joblib.dump(model, 'crop_recommendation_model.pkl')"
      ],
      "metadata": {
        "colab": {
          "base_uri": "https://localhost:8080/"
        },
        "id": "Zixz_5hqI2h0",
        "outputId": "3dc4e94b-7922-4b71-c473-90c3acf2864f"
      },
      "execution_count": 15,
      "outputs": [
        {
          "output_type": "stream",
          "name": "stdout",
          "text": [
            "Accuracy: 97.20%\n",
            "Confusion Matrix:\n",
            "[[ 757    0    0    0    0]\n",
            " [   0  792    0    0    0]\n",
            " [   0    0 7965    0    0]\n",
            " [   0    0    0 2059    0]\n",
            " [   0    0    0    0  778]]\n",
            "Classification Report:\n",
            "              precision    recall  f1-score   support\n",
            "\n",
            "         1.0       1.00      1.00      1.00       757\n",
            "         2.0       1.00      1.00      1.00       792\n",
            "         3.0       1.00      1.00      1.00      7965\n",
            "         4.0       1.00      1.00      1.00      2059\n",
            "         7.0       1.00      1.00      1.00       778\n",
            "\n",
            "    accuracy                           1.00     12351\n",
            "   macro avg       1.00      1.00      1.00     12351\n",
            "weighted avg       1.00      1.00      1.00     12351\n",
            "\n"
          ]
        },
        {
          "output_type": "execute_result",
          "data": {
            "text/plain": [
              "['crop_recommendation_model.pkl']"
            ]
          },
          "metadata": {},
          "execution_count": 15
        }
      ]
    },
    {
      "cell_type": "code",
      "source": [],
      "metadata": {
        "id": "tntB6MYlrPdQ"
      },
      "execution_count": 9,
      "outputs": []
    }
  ]
}